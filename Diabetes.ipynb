import pandas as pd
import numpy as np
import matplotlib.pyplot as plt
%matplotlib inline
diabetes = pd.read_csv('/content/diabetes.csv')
print(diabetes.columns)
diabetes.head()
print("dimension of diabetes data: {}".format(diabetes.shape))
print(diabetes.groupby('Outcome').size())
import seaborn as sns
sns.countplot(diabetes['Outcome'],label="Count")
diabetes.info()
X = diabetes.iloc[:,0:8]
y = diabetes.iloc[:,8]
 
Algorithm : K -Nearest Neighbors
X_train,X_test,y_train,y_test=train_test_split(X,y,test_size=0.2,random_state=0)
scaler=StandardScaler()
X_train=scaler.fit_transform(X_train)
X_test=scaler.transform(X_test)
classifier=KNeighborsClassifier(n_neighbors=11,p=2,metric='euclidean')
classifier.fit(X_train,y_train)
y_pred=classifier.predict(X_test)
conf_matrix=confusion_matrix(y_test,y_pred)
print(conf_matrix)
print(f1_score(y_test,y_pred))
Algorithm 2: Logistic Regression
st_x= StandardScaler()    
X_train= st_x.fit_transform(X_train)    
X_test= st_x.transform(X_test)  
classifier= LogisticRegression(random_state=0)  
classifier.fit(X_train, y_train)  
y_pred= classifier.predict(X_test)
conf_matrix = confusion_matrix(y_test,y_pred)
print(conf_matrix)
print(f1_score(y_test,y_pred))
print(accuracy_score(y_test,y_pred))
Algorithm 3: Support Vector Machine
st_x= StandardScaler()    
X_train= st_x.fit_transform(X_train)    
X_test= st_x.transform(X_test)  
classifier = SVC(kernel='linear', random_state=0)  
classifier.fit(X_train, y_train)  
y_pred= classifier.predict(X_test) 
conf_matrix = confusion_matrix(y_test,y_pred)
print(conf_matrix)
print(f1_score(y_test,y_pred))
print(accuracy_score(y_test,y_pred))
 
 
Algorithm 4: Random Forest
st_x= StandardScaler()    
X_train= st_x.fit_transform(X_train)    
X_test= st_x.transform(X_test)
classifier= RandomForestClassifier(n_estimators= 10, criterion="entropy")  
classifier.fit(X_train, y_train)   
y_pred= classifier.predict(X_test) 
conf_matrix = confusion_matrix(y_test,y_pred)
print(conf_matrix)
print(f1_score(y_test,y_pred))
print(accuracy_score(y_test,y_pred))
 
classifier.feature_importances_
(pd.Series(classifier.feature_importances_, index=X.columns).plot(kind='barh'))
import pickle
 
# Firstly we will be using the dump() function to save the model using pickle
saved_model = pickle.dumps(classifier)
 
# Then we will be loading that saved model
classifier_from_pickle = pickle.loads(saved_model)
 
# lastly, after loading that model we will use this to make predictions
classifier_from_pickle.predict(X_test)
diabetes.head()
classifier.predict([[0,137,40,35,168,43.1,2.228,33]]
